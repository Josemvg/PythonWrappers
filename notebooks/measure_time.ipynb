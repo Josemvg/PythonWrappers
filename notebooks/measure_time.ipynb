{
 "cells": [
  {
   "cell_type": "code",
   "execution_count": 1,
   "metadata": {},
   "outputs": [],
   "source": [
    "# Add parent dir to sys.path\n",
    "import sys\n",
    "sys.path.append('..')\n",
    "\n",
    "# Import timing module\n",
    "from wrappers import timing"
   ]
  },
  {
   "cell_type": "markdown",
   "metadata": {},
   "source": [
    "## Example 1: Fibonacci"
   ]
  },
  {
   "cell_type": "code",
   "execution_count": 2,
   "metadata": {},
   "outputs": [],
   "source": [
    "@timing.measure_time\n",
    "def fibonacci(n):\n",
    "    \"\"\"\n",
    "    Return the first n Fibonacci numbers.\n",
    "\n",
    "    Parameters\n",
    "    ----------\n",
    "    n : int\n",
    "        The number of Fibonacci numbers to return.\n",
    "\n",
    "    Returns\n",
    "    -------\n",
    "    sequence : list\n",
    "        The first n Fibonacci numbers.\n",
    "    \"\"\"\n",
    "    sequence = []\n",
    "    first, second = 0, 1\n",
    "    for _ in range(n):\n",
    "        sequence.append(first)\n",
    "        first, second = second, first + second\n",
    "\n",
    "    return sequence"
   ]
  },
  {
   "cell_type": "code",
   "execution_count": 10,
   "metadata": {},
   "outputs": [
    {
     "name": "stdout",
     "output_type": "stream",
     "text": [
      "Function 'fibonacci' executed in 0.0000 seconds.\n",
      "[0, 1, 1, 2, 3, 5, 8, 13, 21, 34]\n",
      "Function 'fibonacci' executed in 0.0000 seconds.\n",
      "Function 'fibonacci' executed in 0.0060 seconds.\n"
     ]
    }
   ],
   "source": [
    "# Fibonacci series for n = 10\n",
    "result = fibonacci(10)\n",
    "print(result)\n",
    "\n",
    "# Fibonacci series for n = 100\n",
    "result = fibonacci(1000)\n",
    "\n",
    "# Fibonacci series for n = 1000\n",
    "result = fibonacci(10000)"
   ]
  },
  {
   "cell_type": "markdown",
   "metadata": {},
   "source": [
    "# Example 2: Sorting"
   ]
  },
  {
   "cell_type": "code",
   "execution_count": 4,
   "metadata": {},
   "outputs": [
    {
     "name": "stdout",
     "output_type": "stream",
     "text": [
      "Function 'custom_sort' executed in 0.0040 seconds.\n"
     ]
    }
   ],
   "source": [
    "import random\n",
    "\n",
    "@timing.measure_time\n",
    "def custom_sort(data):\n",
    "    \"\"\"\n",
    "    Sort a list of numbers in descending order.\n",
    "\n",
    "    Parameters\n",
    "    ----------\n",
    "    data : list\n",
    "        The list of numbers to be sorted.\n",
    "    \n",
    "    Returns\n",
    "    -------\n",
    "    sorted_data : list\n",
    "        The sorted list of numbers.\n",
    "    \"\"\"\n",
    "    return sorted(data, key=lambda x: -x)"
   ]
  },
  {
   "cell_type": "code",
   "execution_count": 12,
   "metadata": {},
   "outputs": [
    {
     "name": "stdout",
     "output_type": "stream",
     "text": [
      "Function 'custom_sort' executed in 0.0040 seconds.\n",
      "[1000, 1000, 1000, 1000, 1000, 1000, 1000, 999, 999, 999]\n",
      "Function 'custom_sort' executed in 0.0470 seconds.\n",
      "Function 'custom_sort' executed in 0.4387 seconds.\n"
     ]
    }
   ],
   "source": [
    "# Data length: 10000\n",
    "data = [random.randint(1, 1000) for _ in range(10000)]\n",
    "sorted_data = custom_sort(data) \n",
    "print(sorted_data[:10])\n",
    "\n",
    "# Data length: 100000\n",
    "data = [random.randint(1, 1000) for _ in range(100000)]\n",
    "sorted_data = custom_sort(data)\n",
    "\n",
    "# Data length: 1000000\n",
    "data = [random.randint(1, 1000) for _ in range(1000000)]\n",
    "sorted_data = custom_sort(data)"
   ]
  },
  {
   "cell_type": "markdown",
   "metadata": {},
   "source": [
    "# Example 3: Matrix Multiplication"
   ]
  },
  {
   "cell_type": "code",
   "execution_count": 5,
   "metadata": {},
   "outputs": [
    {
     "name": "stdout",
     "output_type": "stream",
     "text": [
      "Function 'matrix_multiply' executed in 0.0010 seconds.\n"
     ]
    }
   ],
   "source": [
    "import numpy as np\n",
    "\n",
    "@timing.measure_time\n",
    "def matrix_multiply(matrix1, matrix2):\n",
    "    \"\"\"\n",
    "    Multiply two matrices.\n",
    "\n",
    "    Parameters\n",
    "    ----------\n",
    "    matrix1 : numpy.ndarray\n",
    "        The first matrix.\n",
    "    matrix2 : numpy.ndarray\n",
    "        The second matrix.\n",
    "    \n",
    "    Returns\n",
    "    -------\n",
    "    result_matrix : numpy.ndarray\n",
    "        The result matrix.\n",
    "    \"\"\"\n",
    "    return np.dot(matrix1, matrix2)"
   ]
  },
  {
   "cell_type": "code",
   "execution_count": 13,
   "metadata": {},
   "outputs": [
    {
     "name": "stdout",
     "output_type": "stream",
     "text": [
      "Function 'matrix_multiply' executed in 0.0010 seconds.\n",
      "Function 'matrix_multiply' executed in 0.0330 seconds.\n",
      "Function 'matrix_multiply' executed in 25.6083 seconds.\n"
     ]
    }
   ],
   "source": [
    "# Size of the matrices: 100x100\n",
    "matrix1 = np.random.rand(100, 100)\n",
    "matrix2 = np.random.rand(100, 100)\n",
    "result_matrix = matrix_multiply(matrix1, matrix2)\n",
    "\n",
    "# Size of the matrices: 1000x1000\n",
    "matrix1 = np.random.rand(1000, 1000)\n",
    "matrix2 = np.random.rand(1000, 1000)\n",
    "result_matrix = matrix_multiply(matrix1, matrix2)\n",
    "\n",
    "# Size of the matrices: 10000x10000\n",
    "matrix1 = np.random.rand(10000, 10000)\n",
    "matrix2 = np.random.rand(10000, 10000)\n",
    "result_matrix = matrix_multiply(matrix1, matrix2)"
   ]
  }
 ],
 "metadata": {
  "kernelspec": {
   "display_name": "Python 3",
   "language": "python",
   "name": "python3"
  },
  "language_info": {
   "codemirror_mode": {
    "name": "ipython",
    "version": 3
   },
   "file_extension": ".py",
   "mimetype": "text/x-python",
   "name": "python",
   "nbconvert_exporter": "python",
   "pygments_lexer": "ipython3",
   "version": "3.10.8"
  },
  "orig_nbformat": 4
 },
 "nbformat": 4,
 "nbformat_minor": 2
}
