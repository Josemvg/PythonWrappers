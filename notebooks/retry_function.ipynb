{
 "cells": [
  {
   "cell_type": "code",
   "execution_count": 1,
   "metadata": {},
   "outputs": [],
   "source": [
    "# Add parent dir to sys.path\n",
    "import sys\n",
    "sys.path.append('..')\n",
    "\n",
    "# Import timing module\n",
    "from wrappers import retry"
   ]
  },
  {
   "cell_type": "markdown",
   "metadata": {},
   "source": [
    "# Example 1: API Request"
   ]
  },
  {
   "cell_type": "code",
   "execution_count": 2,
   "metadata": {},
   "outputs": [],
   "source": [
    "import requests\n",
    "\n",
    "@retry.retry_on_error(max_retries=3, delay=2)\n",
    "def fetch_data(url):\n",
    "    \"\"\"\n",
    "    Fetch data from a URL and return the result as a Python object.\n",
    "\n",
    "    Parameters\n",
    "    ----------\n",
    "    url : str\n",
    "        The URL to fetch the data from.\n",
    "    \n",
    "    Returns\n",
    "    -------\n",
    "    data : dict\n",
    "        The data returned by the URL, as a Python object.\n",
    "    \"\"\"\n",
    "    response = requests.get(url)\n",
    "    response.raise_for_status()\n",
    "    return response.json()"
   ]
  },
  {
   "cell_type": "code",
   "execution_count": 3,
   "metadata": {},
   "outputs": [
    {
     "name": "stdout",
     "output_type": "stream",
     "text": [
      "An error occurred: 404 Client Error: Not Found for url: https://example.com/api/data\n",
      "An error occurred: 404 Client Error: Not Found for url: https://example.com/api/data\n",
      "An error occurred: 404 Client Error: Not Found for url: https://example.com/api/data\n"
     ]
    }
   ],
   "source": [
    "data = fetch_data('https://example.com/api/data')  # This will retry 3 times with a 2-second delay between retries"
   ]
  },
  {
   "cell_type": "markdown",
   "metadata": {},
   "source": [
    "# Example 2: File Reading"
   ]
  },
  {
   "cell_type": "code",
   "execution_count": 4,
   "metadata": {},
   "outputs": [],
   "source": [
    "@retry.retry_on_error(max_retries=2)\n",
    "def read_file(file_path):\n",
    "    \"\"\"\n",
    "    Read the contents of a file.\n",
    "\n",
    "    Parameters\n",
    "    ----------\n",
    "    file_path : str\n",
    "        The path to the file to be read.\n",
    "    \n",
    "    Returns\n",
    "    -------\n",
    "    content\n",
    "        The contents of the file.\n",
    "    \"\"\"\n",
    "    with open(file_path, 'r') as file:\n",
    "        content = file.read()\n",
    "    return content"
   ]
  },
  {
   "cell_type": "code",
   "execution_count": 5,
   "metadata": {},
   "outputs": [
    {
     "name": "stdout",
     "output_type": "stream",
     "text": [
      "An error occurred: [Errno 2] No such file or directory: 'nonexistent_file.txt'\n",
      "An error occurred: [Errno 2] No such file or directory: 'nonexistent_file.txt'\n"
     ]
    }
   ],
   "source": [
    "file_content = read_file('nonexistent_file.txt')  # This will retry 2 times if file reading fails"
   ]
  }
 ],
 "metadata": {
  "kernelspec": {
   "display_name": "Python 3",
   "language": "python",
   "name": "python3"
  },
  "language_info": {
   "codemirror_mode": {
    "name": "ipython",
    "version": 3
   },
   "file_extension": ".py",
   "mimetype": "text/x-python",
   "name": "python",
   "nbconvert_exporter": "python",
   "pygments_lexer": "ipython3",
   "version": "3.10.8"
  },
  "orig_nbformat": 4
 },
 "nbformat": 4,
 "nbformat_minor": 2
}
