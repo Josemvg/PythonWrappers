{
 "cells": [
  {
   "cell_type": "code",
   "execution_count": 1,
   "metadata": {},
   "outputs": [],
   "source": [
    "# Add parent dir to sys.path\n",
    "import sys\n",
    "sys.path.append('..')\n",
    "\n",
    "# Import timing module\n",
    "from wrappers import logging"
   ]
  },
  {
   "cell_type": "markdown",
   "metadata": {},
   "source": [
    "# Example 1: Addition"
   ]
  },
  {
   "cell_type": "code",
   "execution_count": 3,
   "metadata": {},
   "outputs": [],
   "source": [
    "@logging.log_function\n",
    "def add(a, b):\n",
    "    \"\"\"\n",
    "    Add two numbers.\n",
    "\n",
    "    Parameters\n",
    "    ----------\n",
    "    a : int\n",
    "        The first number.\n",
    "    b : int\n",
    "        The second number.\n",
    "    \n",
    "    Returns\n",
    "    -------\n",
    "    result : int\n",
    "        The sum of the two numbers.\n",
    "    \"\"\"\n",
    "    return a + b"
   ]
  },
  {
   "cell_type": "code",
   "execution_count": 4,
   "metadata": {},
   "outputs": [
    {
     "name": "stderr",
     "output_type": "stream",
     "text": [
      "INFO:root:Calling add(10, 5)\n",
      "INFO:root:add returned 15\n"
     ]
    }
   ],
   "source": [
    "result = add(10, 5) "
   ]
  },
  {
   "cell_type": "markdown",
   "metadata": {},
   "source": [
    "# Example 2: String Concatenation"
   ]
  },
  {
   "cell_type": "code",
   "execution_count": 6,
   "metadata": {},
   "outputs": [],
   "source": [
    "@logging.log_function\n",
    "def concatenate_strings(str1, str2):\n",
    "    \"\"\"\n",
    "    Concatenate two strings.\n",
    "\n",
    "    Parameters\n",
    "    ----------\n",
    "    str1 : str\n",
    "        The first string.\n",
    "    str2 : str\n",
    "        The second string.\n",
    "    \n",
    "    Returns\n",
    "    -------\n",
    "    result : str\n",
    "        The concatenated string.\n",
    "    \"\"\"    \n",
    "    return str1 + \" \" + str2"
   ]
  },
  {
   "cell_type": "code",
   "execution_count": 7,
   "metadata": {},
   "outputs": [
    {
     "name": "stderr",
     "output_type": "stream",
     "text": [
      "INFO:root:Calling concatenate_strings('Hello', 'World!')\n",
      "INFO:root:concatenate_strings returned 'Hello World!'\n"
     ]
    }
   ],
   "source": [
    "result = concatenate_strings(\"Hello\", \"World!\") "
   ]
  },
  {
   "cell_type": "markdown",
   "metadata": {},
   "source": [
    "# Example 3: List Manipulation"
   ]
  },
  {
   "cell_type": "code",
   "execution_count": 8,
   "metadata": {},
   "outputs": [],
   "source": [
    "@logging.log_function\n",
    "def manipulate_list(lst):\n",
    "    \"\"\"\n",
    "    Add 100 to the list and remove 42.\n",
    "\n",
    "    Parameters\n",
    "    ----------\n",
    "    lst : list\n",
    "        The list to be manipulated.\n",
    "    \n",
    "    Returns\n",
    "    -------\n",
    "    lst : list\n",
    "        The manipulated list.\n",
    "    \"\"\"\n",
    "    lst.append(100)\n",
    "    lst.remove(42)\n",
    "    return lst"
   ]
  },
  {
   "cell_type": "code",
   "execution_count": 9,
   "metadata": {},
   "outputs": [
    {
     "name": "stderr",
     "output_type": "stream",
     "text": [
      "INFO:root:Calling manipulate_list([1, 2, 42])\n",
      "INFO:root:manipulate_list returned [1, 2, 100]\n"
     ]
    }
   ],
   "source": [
    "my_list = [1, 2, 42]\n",
    "result_list = manipulate_list(my_list)"
   ]
  }
 ],
 "metadata": {
  "kernelspec": {
   "display_name": "Python 3",
   "language": "python",
   "name": "python3"
  },
  "language_info": {
   "codemirror_mode": {
    "name": "ipython",
    "version": 3
   },
   "file_extension": ".py",
   "mimetype": "text/x-python",
   "name": "python",
   "nbconvert_exporter": "python",
   "pygments_lexer": "ipython3",
   "version": "3.10.8"
  },
  "orig_nbformat": 4
 },
 "nbformat": 4,
 "nbformat_minor": 2
}
